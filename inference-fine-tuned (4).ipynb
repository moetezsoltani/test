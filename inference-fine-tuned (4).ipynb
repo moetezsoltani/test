{
 "cells": [
  {
   "cell_type": "code",
   "execution_count": null,
   "metadata": {
    "_cell_guid": "b1076dfc-b9ad-4769-8c92-a6c4dae69d19",
    "_uuid": "8f2839f25d086af736a60e9eeb907d3b93b6e0e5",
    "execution": {
     "iopub.execute_input": "2025-06-03T13:19:20.475858Z",
     "iopub.status.busy": "2025-06-03T13:19:20.475331Z",
     "iopub.status.idle": "2025-06-03T13:19:36.177934Z",
     "shell.execute_reply": "2025-06-03T13:19:36.177167Z",
     "shell.execute_reply.started": "2025-06-03T13:19:20.475837Z"
    },
    "trusted": true
   },
   "outputs": [],
   "source": [
    "%%capture\n",
    "import os\n",
    "if \"COLAB_\" not in \"\".join(os.environ.keys()):\n",
    "    !pip install unsloth\n",
    "else:\n",
    "    # Do this only in Colab notebooks! Otherwise use pip install unsloth\n",
    "    !pip install --no-deps bitsandbytes accelerate xformers==0.0.29.post3 peft trl==0.15.2 triton cut_cross_entropy unsloth_zoo\n",
    "    !pip install sentencepiece protobuf \"datasets>=3.4.1\" huggingface_hub hf_transfer\n",
    "    !pip install transformers==4.51.3\n",
    "    !pip install --no-deps unsloth"
   ]
  },
  {
   "cell_type": "code",
   "execution_count": null,
   "metadata": {
    "execution": {
     "iopub.execute_input": "2025-06-03T13:19:48.345410Z",
     "iopub.status.busy": "2025-06-03T13:19:48.344491Z",
     "iopub.status.idle": "2025-06-03T13:21:05.435090Z",
     "shell.execute_reply": "2025-06-03T13:21:05.434474Z",
     "shell.execute_reply.started": "2025-06-03T13:19:48.345378Z"
    },
    "trusted": true
   },
   "outputs": [],
   "source": [
    "from unsloth import FastVisionModel # FastLanguageModel for LLMs unsloth/Qwen2.5-VL-7B-Instruct-bnb-4bit\"\n",
    "import torch\n",
    "model, tokenizer = FastVisionModel.from_pretrained(\n",
    "    \"tetttssts/final\",\n",
    "    load_in_4bit = True, # Use 4bit to reduce memory use. False for 16bit LoRA.\n",
    "    use_gradient_checkpointing = \"unsloth\", # True or \"unsloth\" for long context\n",
    ")"
   ]
  },
  {
   "cell_type": "code",
   "execution_count": null,
   "metadata": {
    "execution": {
     "iopub.execute_input": "2025-06-03T13:34:25.928741Z",
     "iopub.status.busy": "2025-06-03T13:34:25.928022Z",
     "iopub.status.idle": "2025-06-03T13:34:31.095611Z",
     "shell.execute_reply": "2025-06-03T13:34:31.095097Z",
     "shell.execute_reply.started": "2025-06-03T13:34:25.928719Z"
    },
    "trusted": true
   },
   "outputs": [],
   "source": [
    "from datasets import load_dataset\n",
    "dataset_id = \"bicat123/testdata\"\n",
    "train_dataset, test_dataset = load_dataset(dataset_id, split=['train', 'test'])"
   ]
  },
  {
   "cell_type": "code",
   "execution_count": null,
   "metadata": {
    "execution": {
     "iopub.execute_input": "2025-06-03T13:34:33.708954Z",
     "iopub.status.busy": "2025-06-03T13:34:33.708247Z",
     "iopub.status.idle": "2025-06-03T13:34:33.713493Z",
     "shell.execute_reply": "2025-06-03T13:34:33.712915Z",
     "shell.execute_reply.started": "2025-06-03T13:34:33.708927Z"
    },
    "trusted": true
   },
   "outputs": [],
   "source": [
    "train_dataset"
   ]
  },
  {
   "cell_type": "code",
   "execution_count": null,
   "metadata": {
    "execution": {
     "iopub.execute_input": "2025-06-03T11:40:17.205074Z",
     "iopub.status.busy": "2025-06-03T11:40:17.204855Z",
     "iopub.status.idle": "2025-06-03T11:40:17.222329Z",
     "shell.execute_reply": "2025-06-03T11:40:17.221595Z",
     "shell.execute_reply.started": "2025-06-03T11:40:17.205058Z"
    },
    "trusted": true
   },
   "outputs": [],
   "source": [
    "test_dataset"
   ]
  },
  {
   "cell_type": "code",
   "execution_count": null,
   "metadata": {
    "execution": {
     "iopub.execute_input": "2025-06-03T13:35:02.280885Z",
     "iopub.status.busy": "2025-06-03T13:35:02.280574Z",
     "iopub.status.idle": "2025-06-03T13:35:02.284489Z",
     "shell.execute_reply": "2025-06-03T13:35:02.283666Z",
     "shell.execute_reply.started": "2025-06-03T13:35:02.280861Z"
    },
    "trusted": true
   },
   "outputs": [],
   "source": [
    "system_message = \"\"\"give me the bbox2d  of the drone detected in images even infrared images in josn format and even its small \n",
    "\"\"\""
   ]
  },
  {
   "cell_type": "code",
   "execution_count": null,
   "metadata": {
    "execution": {
     "iopub.execute_input": "2025-06-03T13:46:12.355912Z",
     "iopub.status.busy": "2025-06-03T13:46:12.355222Z",
     "iopub.status.idle": "2025-06-03T13:46:30.951345Z",
     "shell.execute_reply": "2025-06-03T13:46:30.950749Z",
     "shell.execute_reply.started": "2025-06-03T13:46:12.355881Z"
    },
    "trusted": true
   },
   "outputs": [],
   "source": [
    "FastVisionModel.for_inference(model) # Enable for inference!\n",
    "image = train_dataset[0][\"image\"]\n",
    "messages = [\n",
    "    {\"role\": \"user\", \"content\": [\n",
    "        {\"type\": \"image\"},\n",
    "        {\"type\": \"text\", \"text\": system_message }\n",
    "    ]}\n",
    "]\n",
    "input_text = tokenizer.apply_chat_template(messages, add_generation_prompt = True)\n",
    "inputs = tokenizer(\n",
    "    image,\n",
    "    input_text,\n",
    "    add_special_tokens = False,\n",
    "    return_tensors = \"pt\",\n",
    ").to(\"cuda\")\n",
    "\n",
    "from transformers import TextStreamer\n",
    "text_streamer = TextStreamer(tokenizer, skip_prompt = True)\n",
    "_ = model.generate(**inputs, streamer = text_streamer, max_new_tokens = 128,\n",
    "                   use_cache = True, temperature =0.2, min_p = 0.1)"
   ]
  },
  {
   "cell_type": "markdown",
   "metadata": {},
   "source": [
    "rgex model final1"
   ]
  },
  {
   "cell_type": "code",
   "execution_count": null,
   "metadata": {
    "execution": {
     "iopub.execute_input": "2025-06-03T12:10:09.439898Z",
     "iopub.status.busy": "2025-06-03T12:10:09.439605Z",
     "iopub.status.idle": "2025-06-03T12:10:09.444287Z",
     "shell.execute_reply": "2025-06-03T12:10:09.443546Z",
     "shell.execute_reply.started": "2025-06-03T12:10:09.439878Z"
    },
    "trusted": true
   },
   "outputs": [],
   "source": [
    "import re\n",
    "\n",
    "def extract_first_bbox(text):\n",
    "    match = re.search(r'bbox2d\\s*\\[\\s*(\\d+)\\s*,\\s*(\\d+)\\s*,\\s*(\\d+)\\s*,\\s*(\\d+)\\s*\\]', text)\n",
    "    if match:\n",
    "        bbox = [int(match.group(i)) for i in range(1, 5)]\n",
    "        return bbox\n",
    "    return None\n"
   ]
  },
  {
   "cell_type": "code",
   "execution_count": null,
   "metadata": {
    "execution": {
     "iopub.execute_input": "2025-06-03T13:46:40.380647Z",
     "iopub.status.busy": "2025-06-03T13:46:40.380069Z",
     "iopub.status.idle": "2025-06-03T13:46:40.384819Z",
     "shell.execute_reply": "2025-06-03T13:46:40.384118Z",
     "shell.execute_reply.started": "2025-06-03T13:46:40.380627Z"
    },
    "trusted": true
   },
   "outputs": [],
   "source": [
    "import re\n",
    "\n",
    "def extract_first_bbox(text):\n",
    "    match = re.search(r'\"bbox_2d\"\\s*:\\s*\\[([^\\]]+)\\]', text)\n",
    "    if match:\n",
    "        bbox_str = match.group(1)\n",
    "        bbox = [int(x.strip()) for x in bbox_str.split(',')]\n",
    "        return bbox\n",
    "    return None\n"
   ]
  },
  {
   "cell_type": "code",
   "execution_count": null,
   "metadata": {
    "execution": {
     "iopub.execute_input": "2025-06-03T13:44:24.040111Z",
     "iopub.status.busy": "2025-06-03T13:44:24.039534Z",
     "iopub.status.idle": "2025-06-03T13:44:24.045548Z",
     "shell.execute_reply": "2025-06-03T13:44:24.044678Z",
     "shell.execute_reply.started": "2025-06-03T13:44:24.040089Z"
    },
    "trusted": true
   },
   "outputs": [],
   "source": [
    "def infer(image):\n",
    "    try:\n",
    "\n",
    "        messages = [{\n",
    "            \"role\": \"user\",\n",
    "            \"content\": [\n",
    "                {\"type\": \"image\"},\n",
    "                {\"type\": \"text\", \"text\": system_message }\n",
    "            ]\n",
    "        }]\n",
    "\n",
    "        input_text = tokenizer.apply_chat_template(messages, add_generation_prompt=True)\n",
    "\n",
    "        inputs = tokenizer(\n",
    "            image,\n",
    "            input_text,\n",
    "            add_special_tokens=False,\n",
    "            return_tensors=\"pt\"\n",
    "        ).to(\"cuda\")\n",
    "\n",
    "        output = model.generate(\n",
    "            **inputs,\n",
    "            max_new_tokens=128,\n",
    "            use_cache=True,\n",
    "            temperature=0.2,\n",
    "            min_p=0.9\n",
    "        )\n",
    "\n",
    "        decoded_output = tokenizer.decode(output[0], skip_special_tokens=True)\n",
    "        return extract_first_bbox(decoded_output)\n",
    "\n",
    "    except Exception as e:\n",
    "        return f\"Error during inference: {str(e)}\"\n"
   ]
  },
  {
   "cell_type": "code",
   "execution_count": null,
   "metadata": {
    "execution": {
     "iopub.execute_input": "2025-06-03T13:50:05.689922Z",
     "iopub.status.busy": "2025-06-03T13:50:05.689345Z",
     "iopub.status.idle": "2025-06-03T13:50:05.693359Z",
     "shell.execute_reply": "2025-06-03T13:50:05.692466Z",
     "shell.execute_reply.started": "2025-06-03T13:50:05.689899Z"
    },
    "trusted": true
   },
   "outputs": [],
   "source": [
    "bbox2d=[0, 0, 0, 0]"
   ]
  },
  {
   "cell_type": "code",
   "execution_count": null,
   "metadata": {
    "execution": {
     "iopub.execute_input": "2025-06-03T13:46:46.149065Z",
     "iopub.status.busy": "2025-06-03T13:46:46.148362Z",
     "iopub.status.idle": "2025-06-03T13:47:10.982333Z",
     "shell.execute_reply": "2025-06-03T13:47:10.981443Z",
     "shell.execute_reply.started": "2025-06-03T13:46:46.149040Z"
    },
    "trusted": true
   },
   "outputs": [],
   "source": [
    "image = train_dataset[0][\"image\"]\n",
    "bbox2d=infer(image)"
   ]
  },
  {
   "cell_type": "code",
   "execution_count": null,
   "metadata": {
    "execution": {
     "iopub.execute_input": "2025-06-03T13:47:14.453958Z",
     "iopub.status.busy": "2025-06-03T13:47:14.453673Z",
     "iopub.status.idle": "2025-06-03T13:47:14.458749Z",
     "shell.execute_reply": "2025-06-03T13:47:14.458148Z",
     "shell.execute_reply.started": "2025-06-03T13:47:14.453938Z"
    },
    "trusted": true
   },
   "outputs": [],
   "source": [
    "bbox2d"
   ]
  },
  {
   "cell_type": "code",
   "execution_count": null,
   "metadata": {
    "execution": {
     "iopub.execute_input": "2025-06-03T13:47:19.262015Z",
     "iopub.status.busy": "2025-06-03T13:47:19.261331Z",
     "iopub.status.idle": "2025-06-03T13:47:19.358154Z",
     "shell.execute_reply": "2025-06-03T13:47:19.357553Z",
     "shell.execute_reply.started": "2025-06-03T13:47:19.261992Z"
    },
    "trusted": true
   },
   "outputs": [],
   "source": [
    "import cv2\n",
    "import numpy as np\n",
    "import matplotlib.pyplot as plt\n",
    "# Convert from PIL Image to NumPy array\n",
    "image = train_dataset[928][\"image\"]\n",
    "image = np.array(image)\n",
    "\n",
    "# Convert RGB to BGR (OpenCV uses BGR)\n",
    "image = cv2.cvtColor(image, cv2.COLOR_RGB2BGR)\n",
    "\n",
    "# Define the bounding box and label\n",
    "annotations = [\n",
    "    {\"bbox_2d\":[19, 287, 126, 308], \"label\": \"drone\"}\n",
    "]\n",
    "\n",
    "# Draw rectangle and label\n",
    "for annotation in annotations:\n",
    "    x1, y1, x2, y2 = annotation[\"bbox_2d\"]\n",
    "    label = annotation[\"label\"]\n",
    "\n",
    "    cv2.rectangle(image, (x1, y1), (x2, y2), color=(0, 255, 0), thickness=2)\n",
    "    cv2.putText(image, label, (x1, y1 - 10), cv2.FONT_HERSHEY_SIMPLEX,\n",
    "                0.5, (0, 255, 0), 2)\n",
    "\n",
    "# Convert BGR to RGB for display\n",
    "image_rgb = cv2.cvtColor(image, cv2.COLOR_BGR2RGB)\n",
    "\n",
    "# Show image using matplotlib\n",
    "plt.imshow(image_rgb)\n",
    "plt.axis('off')\n",
    "plt.show()\n",
    "\n",
    "# Save image\n",
    "cv2.imwrite('output.jpg', image)"
   ]
  },
  {
   "cell_type": "code",
   "execution_count": null,
   "metadata": {
    "execution": {
     "iopub.execute_input": "2025-06-03T13:53:12.988996Z",
     "iopub.status.busy": "2025-06-03T13:53:12.988662Z",
     "iopub.status.idle": "2025-06-03T13:53:52.018470Z",
     "shell.execute_reply": "2025-06-03T13:53:52.017735Z",
     "shell.execute_reply.started": "2025-06-03T13:53:12.988974Z"
    },
    "trusted": true
   },
   "outputs": [],
   "source": [
    "import pandas as pd\n",
    "from tqdm import tqdm\n",
    "\n",
    "# Assuming system_message is defined somewhere globally or you can define here\n",
    "\n",
    "results = []\n",
    "for i, item in enumerate(tqdm(iter(train_dataset))):\n",
    "    if i == 2:\n",
    "        break\n",
    "    image = item['image']\n",
    "    id=item['IDDetect']\n",
    "    bbox2d = infer(image)\n",
    "    results.append({'IDDetect': id, 'X1': bbox2d[0],'Y1': bbox2d[1],'X2': bbox2d[2],'Y2': bbox2d[3]})\n",
    "\n",
    "# Save results to CSV\n",
    "df = pd.DataFrame(results)\n",
    "df.to_csv('output_results.csv', index=False)\n",
    "\n",
    "print(\"Inference complete, saved to output_results.csv\")"
   ]
  },
  {
   "cell_type": "code",
   "execution_count": null,
   "metadata": {
    "execution": {
     "execution_failed": "2025-06-03T15:05:09.068Z",
     "iopub.execute_input": "2025-06-03T13:54:11.376643Z",
     "iopub.status.busy": "2025-06-03T13:54:11.376126Z"
    },
    "trusted": true
   },
   "outputs": [],
   "source": [
    "import pandas as pd\n",
    "from tqdm import tqdm\n",
    "\n",
    "results = []\n",
    "for i, item in enumerate(tqdm(iter(train_dataset))):\n",
    "    if i == 1000:\n",
    "        break\n",
    "    image = item['image']\n",
    "    id = item['IDDetect']\n",
    "    bbox2d = infer(image)\n",
    "\n",
    "    # Handle case when no bounding box is detected\n",
    "    if bbox2d and len(bbox2d) >= 4:\n",
    "        result = {\n",
    "            'IDDetect': id,\n",
    "            'X1': bbox2d[0],\n",
    "            'Y1': bbox2d[1],\n",
    "            'X2': bbox2d[2],\n",
    "            'Y2': bbox2d[3]\n",
    "        }\n",
    "    else:\n",
    "        # Fill with None or -1 if no bounding box is found\n",
    "        result = {\n",
    "            'IDDetect': id,\n",
    "            'X1': None,\n",
    "            'Y1': None,\n",
    "            'X2': None,\n",
    "            'Y2': None\n",
    "        }\n",
    "\n",
    "    results.append(result)\n",
    "\n",
    "# Save results to CSV\n",
    "df = pd.DataFrame(results)\n",
    "df.to_csv('output_results.csv', index=False)\n",
    "\n",
    "print(\"Inference complete, saved to output_results.csv\")\n"
   ]
  },
  {
   "cell_type": "code",
   "execution_count": null,
   "metadata": {
    "execution": {
     "iopub.execute_input": "2025-06-03T12:12:46.333112Z",
     "iopub.status.busy": "2025-06-03T12:12:46.332742Z",
     "iopub.status.idle": "2025-06-03T12:15:47.815239Z",
     "shell.execute_reply": "2025-06-03T12:15:47.814500Z",
     "shell.execute_reply.started": "2025-06-03T12:12:46.333093Z"
    },
    "trusted": true
   },
   "outputs": [],
   "source": [
    "def parse_bbox(bbox_str):\n",
    "    \"\"\"Parse bbox string like '[x1,y1,x2,y2]' into tuple of ints.\"\"\"\n",
    "    bbox_str = bbox_str.strip().strip('[]')\n",
    "    return tuple(map(int, bbox_str.split(',')))\n",
    "\n",
    "df = pd.read_csv('output_results.csv')\n",
    "\n",
    "for idx, row in df.iterrows():\n",
    "    id_detect_val = row['id']\n",
    "    \n",
    "    # Find matching index in test_dataset by IDDetect\n",
    "    matched_rows = [i for i, item in enumerate(train_dataset) if item['IDDetect'] == id_detect_val]\n",
    "    if not matched_rows:\n",
    "        print(f\"No image found for IDDetect {id_detect_val}\")\n",
    "        continue\n",
    "    img_index = matched_rows[0]\n",
    "    \n",
    "    pil_image = train_dataset[img_index]['image']\n",
    "    image = np.array(pil_image)\n",
    "    image = cv2.cvtColor(image, cv2.COLOR_RGB2BGR)\n",
    "    \n",
    "    bbox = parse_bbox(row['bbox2d'])\n",
    "    x1, y1, x2, y2 = bbox\n",
    "    \n",
    "    cv2.rectangle(image, (x1, y1), (x2, y2), (0, 255, 0), 2)\n",
    "    cv2.putText(image, 'drone', (x1, y1 - 10), cv2.FONT_HERSHEY_SIMPLEX,\n",
    "                0.5, (0, 255, 0), 2)\n",
    "    \n",
    "    image_rgb = cv2.cvtColor(image, cv2.COLOR_BGR2RGB)\n",
    "    \n",
    "    plt.imshow(image_rgb)\n",
    "    plt.axis('off')\n",
    "    plt.title(f\"IDDetect: {id_detect_val}, IDTrack: {row['idtrack']}\")\n",
    "    plt.show()"
   ]
  },
  {
   "cell_type": "code",
   "execution_count": null,
   "metadata": {
    "execution": {
     "iopub.execute_input": "2025-06-01T23:25:37.146421Z",
     "iopub.status.busy": "2025-06-01T23:25:37.146139Z",
     "iopub.status.idle": "2025-06-01T23:28:41.024782Z",
     "shell.execute_reply": "2025-06-01T23:28:41.024036Z",
     "shell.execute_reply.started": "2025-06-01T23:25:37.146401Z"
    },
    "trusted": true
   },
   "outputs": [],
   "source": [
    "import pandas as pd\n",
    "import cv2\n",
    "import numpy as np\n",
    "import matplotlib.pyplot as plt\n",
    "\n",
    "def parse_bbox(bbox_str):\n",
    "    bbox_str = bbox_str.strip().strip('[]')\n",
    "    return tuple(map(int, bbox_str.split(',')))\n",
    "\n",
    "df = pd.read_csv('output_results.csv')\n",
    "\n",
    "num_images = len(df)\n",
    "cols = 3  # number of columns in grid\n",
    "rows = (num_images + cols - 1) // cols  # rows needed\n",
    "\n",
    "fig, axes = plt.subplots(rows, cols, figsize=(cols * 5, rows * 4))\n",
    "axes = axes.flatten()  # flatten in case of 2D array\n",
    "\n",
    "for ax in axes[num_images:]:\n",
    "    ax.axis('off')  # hide unused axes if any\n",
    "\n",
    "for idx, row in df.iterrows():\n",
    "    id_detect_val = row['id']\n",
    "\n",
    "    matched_rows = [i for i, item in enumerate(train_dataset) if item['IDDetect'] == id_detect_val]\n",
    "    if not matched_rows:\n",
    "        print(f\"No image found for IDDetect {id_detect_val}\")\n",
    "        axes[idx].axis('off')\n",
    "        continue\n",
    "    img_index = matched_rows[0]\n",
    "\n",
    "    pil_image = train_dataset[img_index]['image']\n",
    "    image = np.array(pil_image)\n",
    "    image = cv2.cvtColor(image, cv2.COLOR_RGB2BGR)\n",
    "\n",
    "    bbox = parse_bbox(row['bbox2d'])\n",
    "    x1, y1, x2, y2 = bbox\n",
    "\n",
    "    cv2.rectangle(image, (x1, y1), (x2, y2), (0, 255, 0), 2)\n",
    "    cv2.putText(image, 'drone', (x1, y1 - 10), cv2.FONT_HERSHEY_SIMPLEX,\n",
    "                0.5, (0, 255, 0), 2)\n",
    "\n",
    "    image_rgb = cv2.cvtColor(image, cv2.COLOR_BGR2RGB)\n",
    "\n",
    "    axes[idx].imshow(image_rgb)\n",
    "    axes[idx].axis('off')\n",
    "    axes[idx].set_title(f\"IDDetect: {id_detect_val}\\nIDTrack: {row['idtrack']}\")\n",
    "\n",
    "plt.tight_layout()\n",
    "plt.show()\n"
   ]
  }
 ],
 "metadata": {
  "kaggle": {
   "accelerator": "none",
   "dataSources": [],
   "dockerImageVersionId": 31041,
   "isGpuEnabled": false,
   "isInternetEnabled": true,
   "language": "python",
   "sourceType": "notebook"
  },
  "kernelspec": {
   "display_name": "Python 3",
   "language": "python",
   "name": "python3"
  },
  "language_info": {
   "codemirror_mode": {
    "name": "ipython",
    "version": 3
   },
   "file_extension": ".py",
   "mimetype": "text/x-python",
   "name": "python",
   "nbconvert_exporter": "python",
   "pygments_lexer": "ipython3",
   "version": "3.11.11"
  }
 },
 "nbformat": 4,
 "nbformat_minor": 4
}
